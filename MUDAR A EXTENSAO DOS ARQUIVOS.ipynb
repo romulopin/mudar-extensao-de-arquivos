{
 "cells": [
  {
   "cell_type": "markdown",
   "metadata": {},
   "source": [
    "# Mudando a extensão de qualquer arquivo"
   ]
  },
  {
   "cell_type": "markdown",
   "metadata": {},
   "source": [
    "O Script abaixo foi desenvolvido em python através do jupyter notebook, e o seu objetivo é mudar a extensão de qualquer arquivo de forma automatizada, o usuário poderá escolher o novo tipo de extensão."
   ]
  },
  {
   "cell_type": "code",
   "execution_count": null,
   "metadata": {},
   "outputs": [],
   "source": [
    "import re\n",
    "import string\n",
    "import os\n",
    "\n",
    "\n",
    "diretorio = \"excel/\"\n",
    "extensao = \".*xlsx\"\n",
    "novaExtensao = \".rar\" \n",
    "parteQueSai = \"IM-0001-\"\n",
    "parteQueSubstitui = \"slice\"\n",
    "\n",
    "\n",
    "reg = re.compile(extensao)\n",
    "if os.path.isdir(diretorio) and not os.path.islink(diretorio):\n",
    "    arquivos = os.listdir(diretorio)\n",
    "    for arquivo in arquivos:\n",
    "        newExt = re.compile(extensao).match\n",
    "        if newExt(arquivo):\n",
    "            c = os.path.splitext(arquivo)\n",
    "            b = c[0] + novaExtensao\n",
    "            a = os.path.join(diretorio,arquivo)\n",
    "            b = os.path.join(diretorio,b)\n",
    "            os.rename(a,b)\n",
    "\n",
    "if os.path.isdir(diretorio) and not os.path.islink(diretorio):\n",
    "    arquivos = os.listdir(diretorio)\n",
    "    for arquivo in arquivos:\n",
    "        print(arquivo)\n",
    "        novoNome = str.replace(arquivo, parteQueSai, parteQueSubstitui)\n",
    "        fullpathOld = os.path.join(diretorio,arquivo)\n",
    "        fullpathNew = os.path.join(diretorio,novoNome)\n",
    "        os.rename(fullpathOld, fullpathNew)"
   ]
  }
 ],
 "metadata": {
  "kernelspec": {
   "display_name": "Python 3",
   "language": "python",
   "name": "python3"
  },
  "language_info": {
   "codemirror_mode": {
    "name": "ipython",
    "version": 3
   },
   "file_extension": ".py",
   "mimetype": "text/x-python",
   "name": "python",
   "nbconvert_exporter": "python",
   "pygments_lexer": "ipython3",
   "version": "3.8.3"
  }
 },
 "nbformat": 4,
 "nbformat_minor": 2
}
